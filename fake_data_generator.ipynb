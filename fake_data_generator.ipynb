{
 "cells": [
  {
   "cell_type": "code",
   "execution_count": null,
   "id": "897aa63f",
   "metadata": {
    "execution": {
     "iopub.execute_input": "2025-02-25T18:55:53.262034Z",
     "iopub.status.busy": "2025-02-25T18:55:53.261781Z",
     "iopub.status.idle": "2025-02-25T18:55:54.592762Z",
     "shell.execute_reply": "2025-02-25T18:55:54.592210Z"
    },
    "papermill": {
     "duration": 1.335457,
     "end_time": "2025-02-25T18:55:54.593936",
     "exception": false,
     "start_time": "2025-02-25T18:55:53.258479",
     "status": "completed"
    },
    "tags": []
   },
   "outputs": [
    {
     "name": "stdout",
     "output_type": "stream",
     "text": [
      "Defaulting to user installation because normal site-packages is not writeable\r\n",
      "Requirement already satisfied: Faker in ./.local/lib/python3.9/site-packages (36.1.1)\r\n",
      "Requirement already satisfied: Polars in ./.local/lib/python3.9/site-packages (1.23.0)\r\n",
      "Requirement already satisfied: tzdata in ./.local/lib/python3.9/site-packages (from Faker) (2025.1)\r\n"
     ]
    },
    {
     "name": "stdout",
     "output_type": "stream",
     "text": [
      "Note: you may need to restart the kernel to use updated packages.\n"
     ]
    }
   ],
   "source": [
    "%pip install Faker Polars"
   ]
  },
  {
   "cell_type": "code",
   "execution_count": null,
   "id": "cbe496f9",
   "metadata": {
    "execution": {
     "iopub.execute_input": "2025-02-25T18:55:54.600754Z",
     "iopub.status.busy": "2025-02-25T18:55:54.600569Z",
     "iopub.status.idle": "2025-02-25T18:55:54.762137Z",
     "shell.execute_reply": "2025-02-25T18:55:54.761620Z"
    },
    "papermill": {
     "duration": 0.165274,
     "end_time": "2025-02-25T18:55:54.763855",
     "exception": false,
     "start_time": "2025-02-25T18:55:54.598581",
     "status": "completed"
    },
    "tags": []
   },
   "outputs": [],
   "source": [
    "from faker import Faker\n",
    "from datetime import datetime, timezone\n",
    "import random\n",
    "import polars as pl\n",
    "import os"
   ]
  },
  {
   "cell_type": "code",
   "execution_count": null,
   "id": "98b5a28d",
   "metadata": {},
   "outputs": [],
   "source": [
    "HOME_PATH = os.getenv(\"HOME_PATH\", \"/home/ec2-user/\")"
   ]
  },
  {
   "cell_type": "code",
   "execution_count": null,
   "id": "1cff5451",
   "metadata": {
    "execution": {
     "iopub.execute_input": "2025-02-25T18:55:54.769905Z",
     "iopub.status.busy": "2025-02-25T18:55:54.769444Z",
     "iopub.status.idle": "2025-02-25T18:55:54.794253Z",
     "shell.execute_reply": "2025-02-25T18:55:54.793851Z"
    },
    "papermill": {
     "duration": 0.027814,
     "end_time": "2025-02-25T18:55:54.795198",
     "exception": false,
     "start_time": "2025-02-25T18:55:54.767384",
     "status": "completed"
    },
    "tags": []
   },
   "outputs": [],
   "source": [
    "fake = Faker('pt_BR')\n",
    "\n",
    "now = datetime.now(timezone.utc)"
   ]
  },
  {
   "cell_type": "code",
   "execution_count": null,
   "id": "24484825",
   "metadata": {
    "execution": {
     "iopub.execute_input": "2025-02-25T18:55:54.799937Z",
     "iopub.status.busy": "2025-02-25T18:55:54.799630Z",
     "iopub.status.idle": "2025-02-25T18:55:54.805994Z",
     "shell.execute_reply": "2025-02-25T18:55:54.805324Z"
    },
    "papermill": {
     "duration": 0.009799,
     "end_time": "2025-02-25T18:55:54.807290",
     "exception": false,
     "start_time": "2025-02-25T18:55:54.797491",
     "status": "completed"
    },
    "tags": []
   },
   "outputs": [],
   "source": [
    "len = random.randint(10, 20)\n",
    "\n",
    "names = [fake.name() for _ in range(len)]\n",
    "dates = [fake.date() for _ in range(len)]\n",
    "states = [fake.state() for _ in range(len)]\n",
    "colors = [fake.color_name() for _ in range(len)]\n",
    "phrases = [fake.catch_phrase_verb() for _ in range(len)]\n",
    "ages = [str(random.randint(1, 110)) for _ in range(len)]\n",
    "\n",
    "timestamp = now.strftime(\"%Y-%m-%d %H:%M:%S %z\")"
   ]
  },
  {
   "cell_type": "code",
   "execution_count": null,
   "id": "541ec6d9",
   "metadata": {
    "execution": {
     "iopub.execute_input": "2025-02-25T18:55:54.812056Z",
     "iopub.status.busy": "2025-02-25T18:55:54.810938Z",
     "iopub.status.idle": "2025-02-25T18:55:54.818172Z",
     "shell.execute_reply": "2025-02-25T18:55:54.817772Z"
    },
    "papermill": {
     "duration": 0.011343,
     "end_time": "2025-02-25T18:55:54.819925",
     "exception": false,
     "start_time": "2025-02-25T18:55:54.808582",
     "status": "completed"
    },
    "tags": []
   },
   "outputs": [],
   "source": [
    "df = pl.DataFrame({\n",
    "    \"name\": names,\n",
    "    \"date\": dates,\n",
    "    \"state\": states,\n",
    "    \"color\": colors,\n",
    "    \"phrase\": phrases,\n",
    "    \"age\": ages,\n",
    "    \"exec_timestamp\": timestamp\n",
    "})"
   ]
  },
  {
   "cell_type": "code",
   "execution_count": null,
   "id": "09784a6d",
   "metadata": {
    "execution": {
     "iopub.execute_input": "2025-02-25T18:55:54.823471Z",
     "iopub.status.busy": "2025-02-25T18:55:54.823314Z",
     "iopub.status.idle": "2025-02-25T18:55:54.827129Z",
     "shell.execute_reply": "2025-02-25T18:55:54.826722Z"
    },
    "papermill": {
     "duration": 0.007427,
     "end_time": "2025-02-25T18:55:54.829050",
     "exception": false,
     "start_time": "2025-02-25T18:55:54.821623",
     "status": "completed"
    },
    "tags": []
   },
   "outputs": [],
   "source": [
    "date = now.strftime(\"%Y_%m_%d_%H_%M_%S\")\n",
    "file_name = f\"fake_data_{date}.csv\"\n",
    "file_path = HOME_PATH + \"/fake_data_generator/data/\" + file_name\n",
    "\n",
    "df.write_csv(file_path)"
   ]
  }
 ],
 "metadata": {
  "kernelspec": {
   "display_name": "Python 3",
   "language": "python",
   "name": "python3"
  },
  "language_info": {
   "codemirror_mode": {
    "name": "ipython",
    "version": 3
   },
   "file_extension": ".py",
   "mimetype": "text/x-python",
   "name": "python",
   "nbconvert_exporter": "python",
   "pygments_lexer": "ipython3",
   "version": "3.9.20"
  },
  "papermill": {
   "default_parameters": {},
   "duration": 2.733747,
   "end_time": "2025-02-25T18:55:55.057787",
   "environment_variables": {},
   "exception": null,
   "input_path": "/home/ec2-user/de_exp/fake_generator/fake_data_generator.ipynb",
   "output_path": "/home/ec2-user/de_exp/fake_generator/fake_data_generator.ipynb",
   "parameters": {},
   "start_time": "2025-02-25T18:55:52.324040",
   "version": "2.6.0"
  }
 },
 "nbformat": 4,
 "nbformat_minor": 5
}
